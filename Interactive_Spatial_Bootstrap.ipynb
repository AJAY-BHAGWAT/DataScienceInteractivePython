{
 "cells": [
  {
   "cell_type": "markdown",
   "metadata": {
    "collapsed": true
   },
   "source": [
    "<p align=\"center\">\n",
    "    <img src=\"https://github.com/GeostatsGuy/GeostatsPy/blob/master/TCG_color_logo.png?raw=true\" width=\"220\" height=\"240\" />\n",
    "\n",
    "</p>\n",
    "\n",
    "### Boostrap vs. Spatial Bootstrap in Python \n",
    "\n",
    "#### Michael Pyrcz, Professor, The University of Texas at Austin \n",
    "\n",
    "##### [Twitter](https://twitter.com/geostatsguy) | [GitHub](https://github.com/GeostatsGuy) | [Website](http://michaelpyrcz.com) | [GoogleScholar](https://scholar.google.com/citations?user=QVZ20eQAAAAJ&hl=en&oi=ao) | [Book](https://www.amazon.com/Geostatistical-Reservoir-Modeling-Michael-Pyrcz/dp/0199731446) | [YouTube](https://www.youtube.com/channel/UCLqEr-xV-ceHdXXXrTId5ig)  | [LinkedIn](https://www.linkedin.com/in/michael-pyrcz-61a648a1)\n"
   ]
  },
  {
   "cell_type": "markdown",
   "metadata": {},
   "source": [
    "#### Bootstrap\n",
    "\n",
    "Uncertainty in the sample statistics\n",
    "* one source of uncertainty is the paucity of data.\n",
    "* do 200 or even less wells provide a precise (and accurate estimate) of the mean? standard deviation? skew? P13?\n",
    "\n",
    "Would it be useful to know the uncertainty in these statistics due to limited sampling?\n",
    "* what is the impact of uncertainty in the mean porosity e.g. 20%+/-2%?\n",
    "\n",
    "**Bootstrap** is a method to assess the uncertainty in a sample statistic by repeated random sampling with replacement.\n",
    "\n",
    "Assumptions\n",
    "* sufficient, representative sampling, identical, idependent samples\n",
    "\n",
    "Limitations\n",
    "1. assumes the samples are representative \n",
    "2. assumes stationarity\n",
    "3. only accounts for uncertainty due to too few samples, e.g. no uncertainty due to changes away from data\n",
    "4. does not account for boundary of area of interest \n",
    "5. assumes the samples are independent\n",
    "6. does not account for other local information sources\n",
    "\n",
    "The Bootstrap Approach (Efron, 1982)\n",
    "\n",
    "Statistical resampling procedure to calculate uncertainty in a calculated statistic from the data itself.\n",
    "* Does this work?  Prove it to yourself, for uncertainty in the mean solution is standard error: \n",
    "\n",
    "\\begin{equation}\n",
    "\\sigma^2_\\overline{x} = \\frac{\\sigma^2_s}{n}\n",
    "\\end{equation}\n",
    "\n",
    "Extremely powerful - could calculate uncertainty in any statistic!  e.g. P13, skew etc.\n",
    "* Would not be possible access general uncertainty in any statistic without bootstrap.\n",
    "* Advanced forms account for spatial information and sampling strategy (game theory and Journel’s spatial bootstrap (1993).\n",
    "\n",
    "Steps: \n",
    "\n",
    "1. assemble a sample set, must be representative, reasonable to assume independence between samples\n",
    "\n",
    "2. optional: build a cumulative distribution function (CDF)\n",
    "    * may account for declustering weights, tail extrapolation\n",
    "    * could use analogous data to support\n",
    "\n",
    "3. For $\\ell = 1, \\ldots, L$ realizations, do the following:\n",
    "\n",
    "    * For $i = \\alpha, \\ldots, n$ data, do the following:\n",
    "\n",
    "        * Draw a random sample with replacement from the sample set or Monte Carlo simulate from the CDF (if available). \n",
    "\n",
    "6. Calculate a realization of the sammary statistic of interest from the $n$ samples, e.g. $m^\\ell$, $\\sigma^2_{\\ell}$. Return to 3 for another realization.\n",
    "\n",
    "7. Compile and summarize the $L$ realizations of the statistic of interest.\n",
    "\n",
    "This is a very powerful method.  Let's try it out.\n",
    "\n",
    "#### Load the Required Libraries\n",
    "\n",
    "We will also need some standard Python packages. These should have been installed with Anaconda 3."
   ]
  },
  {
   "cell_type": "code",
   "execution_count": 10,
   "metadata": {},
   "outputs": [],
   "source": [
    "supress_warnings = True                                   # supress warnings?\n",
    "import numpy as np                                        # ndarrys for gridded data\n",
    "import pandas as pd\n",
    "import matplotlib.pyplot as plt                           # for plotting\n",
    "import math\n",
    "from matplotlib.ticker import (MultipleLocator, AutoMinorLocator) # control of axes ticks\n",
    "import scipy as sp                                        # lower upper matrix decomposition\n",
    "from scipy.interpolate import make_interp_spline          # smooth curves\n",
    "import statsmodels.formula.api as smf\n",
    "from scipy.stats import norm                              # Gaussian distribution PDF and sampling\n",
    "import geostatspy.GSLIB as GSLIB\n",
    "import geostatspy.geostats as geostats\n",
    "from ipywidgets import interactive                        # widgets and interactivity\n",
    "from ipywidgets import widgets                            \n",
    "from ipywidgets import Layout\n",
    "from ipywidgets import Label\n",
    "from ipywidgets import VBox, HBox\n",
    "cmap = plt.cm.inferno                                     # default color bar, no bias and friendly for color vision defeciency\n",
    "plt.rc('axes', axisbelow=True)                            # grid behind plotting elements\n",
    "if supress_warnings == True:\n",
    "    import warnings                                       # supress any warnings for this demonstration\n",
    "    warnings.filterwarnings('ignore')                  "
   ]
  },
  {
   "cell_type": "markdown",
   "metadata": {},
   "source": [
    "If you get a package import error, you may have to first install some of these packages. This can usually be accomplished by opening up a command window on Windows and then typing 'python -m pip install [package-name]'. More assistance is available with the respective package docs.  \n",
    "\n",
    "#### Declare Functions\n",
    "\n",
    "I just added a convenience functions to:\n",
    "\n",
    "1. add major and minor gridlines\n",
    "2. calculate a isotropic variogram between 2 points\n",
    "3. calculate the azimuth between 2 points to rotate a label"
   ]
  },
  {
   "cell_type": "code",
   "execution_count": 11,
   "metadata": {},
   "outputs": [],
   "source": [
    "def add_grid():\n",
    "    plt.gca().grid(True, which='major',linewidth = 1.0); plt.gca().grid(True, which='minor',linewidth = 0.2) # add y grids\n",
    "    plt.gca().tick_params(which='major',length=7); plt.gca().tick_params(which='minor', length=4)\n",
    "    plt.gca().xaxis.set_minor_locator(AutoMinorLocator()); plt.gca().yaxis.set_minor_locator(AutoMinorLocator()) # turn on minor ticks    \n",
    "\n",
    "\n",
    "    \n",
    "    \n",
    "def n_effective(df,xcol,ycol,seed,nreal,vario):\n",
    "    \"\"\"Calculate the number of effective data from spatial locations and spatial continuity model\n",
    "    Used in bootstrap to account for spatial continuity, use n effective instead of number of data\n",
    "    :param df: source DataFrame\n",
    "    :param xcol: column with the X locations\n",
    "    :param ycol: column with the Y locations\n",
    "    :param seed: random number seed for the random sampling\n",
    "    :param nreal: number of realizations to sample the variance of the average \n",
    "    :param vario: variogram model as a dictionary, see the GeostatsPy Package's GSLIB.make_variogram() function \n",
    "    :return: n_eff as effective number of data\n",
    "    \"\"\" \n",
    "\n",
    "# Set constants\n",
    "    np.random.seed(seed)\n",
    "    PMX = 9999.9\n",
    "    \n",
    "# load the variogram\n",
    "    nst = vario['nst']\n",
    "    cc = np.zeros(nst); aa = np.zeros(nst); it = np.zeros(nst)\n",
    "    ang = np.zeros(nst); anis = np.zeros(nst)\n",
    "    c0 = vario['nug']; \n",
    "    cc[0] = vario['cc1']; it[0] = vario['it1']; ang[0] = vario['azi1']; \n",
    "    aa[0] = vario['hmaj1']; anis[0] = vario['hmin1']/vario['hmaj1'];\n",
    "    if nst == 2:                                   # include 2nd structure if present (optional)\n",
    "        cc[1] = vario['cc2']; it[1] = vario['it2']; ang[1] = vario['azi2']; \n",
    "        aa[1] = vario['hmaj2']; anis[1] = vario['hmin2']/vario['hmaj2'];\n",
    "    \n",
    "# Set up the rotation matrix\n",
    "    rotmat, maxcov = geostats.setup_rotmat(c0,nst,it,cc,ang,PMX)\n",
    "    \n",
    "# Load the data\n",
    "    nd = len(df)\n",
    "    x = df[xcol].values\n",
    "    y = df[ycol].values\n",
    "    \n",
    "# Calculate Symmetric Covariance Array - assuming variogram with spherical structure with range specified\n",
    "    cov = np.zeros((nd,nd))\n",
    "    var_range = 100.0\n",
    "    for i in range(0, nd):\n",
    "        x1 = x[i]; y1 = y[i]\n",
    "        for j in range(0, nd):\n",
    "            x2 = x[j]; y2 = y[j]\n",
    "            cova = geostats.cova2(x1, y1, x2, y2, nst, c0, PMX, cc, aa, it, ang, anis, rotmat, maxcov)\n",
    "            cov[i,j] = cova\n",
    "            \n",
    "# Lower and upper deconvolution            \n",
    "    P, L, U = sp.linalg.lu(cov) \n",
    "    \n",
    "# Build realization and calculate the average    \n",
    "    realizations = np.zeros((nreal,nd))\n",
    "    average_array = np.zeros(nreal)\n",
    "    rand = np.zeros((nd)) \n",
    "    for l in range(0, nreal):\n",
    "        rand = np.random.normal(loc = 0.0, scale = 1.0, size = nd)\n",
    "        realizations[l,:] = np.matmul(L,rand)\n",
    "        average_array[l] = np.average(realizations[l])\n",
    "        \n",
    "# Back out the number of effecitve data useing the standard error in the average\n",
    "    var_average = np.var(average_array)\n",
    "    n_eff = max(min(1.0/var_average, nd),1.0)    # filter n effective less than 1.0 or greater than number of data\n",
    "    return n_eff, realizations\n",
    "    \n",
    "def percentile(n):\n",
    "    def percentile_(x):\n",
    "        return np.percentile(x, n)\n",
    "    percentile_.__name__ = 'percentile_%s' % n\n",
    "    return percentile_"
   ]
  },
  {
   "cell_type": "markdown",
   "metadata": {},
   "source": [
    "#### n Effective Demonstration\n",
    "\n",
    "Now let's set up our first dashboard. Here we visualize the impact of spatial continuity range and number of samples on the effective number of data. \n",
    "\n",
    "* How many independent peices of information do you have?"
   ]
  },
  {
   "cell_type": "code",
   "execution_count": 19,
   "metadata": {},
   "outputs": [],
   "source": [
    "max_L = 100\n",
    "\n",
    "l = widgets.Text(value=r'                                                      Number of Effective Data, Michael Pyrcz, Professor, The University of Texas at Austin',layout=Layout(width='950px', height='30px'))\n",
    "\n",
    "n = widgets.IntSlider(min=1, max = max_L, value = 1,step = 1,description = '$n$:',orientation='horizontal',layout=Layout(width='300px', height='50px'),continuous_update=False)\n",
    "n.style.handle_color = 'gray'\n",
    "\n",
    "vrange = widgets.FloatSlider(min=0.1, max = 200.0, value = 10.0,step=5,description = r'$\\gamma_{range}$',orientation='horizontal',layout=Layout(width='300px', height='50px'),continuous_update=False)\n",
    "vrange.style.handle_color = 'gray'\n",
    "\n",
    "seed = widgets.IntSlider(min=100, max = 999, value = 1, description = '$s$:',orientation='horizontal',layout=Layout(width='300px', height='50px'),continuous_update=False)\n",
    "seed.style.handle_color = 'gray'\n",
    "\n",
    "window = widgets.Checkbox(value=False,description='Conv. Fit',disabled=False,layout=Layout(width='200px', height='30px'))\n",
    "poly = widgets.Checkbox(value=True,description='Poly. Fit',disabled=False,layout=Layout(width='200px', height='30px'))\n",
    "\n",
    "ui1 = widgets.HBox([n,vrange,seed,],kwargs = {'justify_content':'center'})\n",
    "ui2 = widgets.HBox([window,poly,],kwargs = {'justify_content':'center'})\n",
    "ui_all = widgets.VBox([l,ui1,ui2],)\n",
    "\n",
    "def f_make1(n,vrange,seed,window,poly): \n",
    "    np.random.seed(seed=seed)\n",
    "    values = np.random.rand(max_L*2)*100\n",
    "    X,Y = np.split(values,2)\n",
    "    df = pd.DataFrame(np.vstack((X[:n],Y[:n])).T,columns = ['X','Y'])\n",
    "    \n",
    "    ax1 = plt.subplot(121)\n",
    "    plt.scatter(df['X'],df['Y'],color='red',edgecolor='black',zorder=10,label = 'Spatial Data')\n",
    "    plt.gca().add_patch(plt.Rectangle((0, 0), 100, 100, fill=False,edgecolor='black',lw=2))\n",
    "    \n",
    "    for ipts in range(0,n):\n",
    "        if ipts == 0:\n",
    "            circle1 = plt.Circle((df['X'][ipts],df['Y'][ipts]),vrange,fill=True,color='red',edgecolor=None,\n",
    "                lw=0.0,alpha=0.1,zorder=1,label='Spatial Continuity')\n",
    "        else:\n",
    "            circle1 = plt.Circle((df['X'][ipts],df['Y'][ipts]),vrange,fill=True,color='red',edgecolor=None,\n",
    "                lw=0.0,alpha=0.1,zorder=1)\n",
    "        plt.gca().add_patch(circle1)\n",
    "    \n",
    "    plt.xlim([-10,110]); plt.ylim([-10,110]); add_grid(); plt.xlabel(\"X (m)\"); plt.ylabel(\"Y (m)\") \n",
    "    plt.title('Random Spatial Dataset with Spatial Correlation Range Indicated')\n",
    "    \n",
    "    vario = GSLIB.make_variogram(nug=0.0,nst=1,it1=1,cc1=1.0,azi1=0.0,hmaj1=vrange,hmin1=vrange)\n",
    "    neffective = n_effective(df,'X','Y',seed=seed,nreal=1000,vario=vario)[0]\n",
    "    \n",
    "    neffect_array = []; l_array = []\n",
    "    for l in np.arange(1,max_L,2):\n",
    "        l_array.append(l)\n",
    "        df = pd.DataFrame(np.vstack((X[:l],Y[:l])).T,columns = ['X','Y'])\n",
    "        neffect_array.append(n_effective(df,'X','Y',seed=seed,nreal=1000,vario=vario)[0])\n",
    "    \n",
    "    df_effective = pd.DataFrame(np.vstack((l_array,neffect_array)).T,columns = ['l','e'])    \n",
    "    olsres2 = smf.ols(formula = 'e ~ l + I(l**2)+ I(l**3)-1', data = df_effective).fit()    \n",
    "      \n",
    "    plt.annotate(r'$n$ = ' + str(np.round(n,2)),(0,-5))\n",
    "    plt.annotate(r'$n_{effective}$ = ' + str(np.round(neffective,2)),(15,-5))\n",
    "    neffective_model = olsres2.params[2]*np.power(n,3) + olsres2.params[1]*np.power(n,2) + olsres2.params[0]*n\n",
    "    plt.annotate(r'$\\hat{n}_{effective}$ = ' + str(np.round(neffective_model,2)),(42,-5))\n",
    "    plt.legend(loc = 'upper left')\n",
    "        \n",
    "    ax2 = plt.subplot(122)\n",
    "    plt.plot([1,max_L],[1,max_L],color='black')\n",
    "    plt.scatter(n,neffective,c='red',edgecolor='black',s=20,zorder=10)\n",
    "    plt.scatter(n,neffective_model,c='darkorange',edgecolor='black',s=20,zorder=10)\n",
    "    plt.scatter(l_array,neffect_array,c='grey',edgecolor='grey',lw=0,s=30,alpha=0.4,zorder=5)\n",
    "    kernel = np.array([0.076923,0.230769,0.384615,0.230769,0.076923])\n",
    "    #plt.plot(np.arange(1,max_L+1,1),poly(np.arange(1,max_L+1,1)),c='red',zorder=1) \n",
    "    if window:\n",
    "        plt.plot(l_array[2:-2],np.convolve(neffect_array,kernel,mode = 'valid'),c='red',zorder=1) \n",
    "    # plt.plot(np.arange(1,max_L,3),max_pool,c='red',zorder=1) \n",
    "    if poly:\n",
    "        xs = np.arange(1,max_L,1)\n",
    "        neff_poly_model = olsres2.params[2]*np.power(xs,3) + olsres2.params[1]*np.power(xs,2) + olsres2.params[0]*xs\n",
    "        plt.plot(xs,neff_poly_model,color='darkorange',zorder=10)\n",
    "        plt.fill_between(xs,neff_poly_model,np.zeros(len(xs)),color='darkorange',alpha=0.2,zorder=1,label='Effective')\n",
    "        plt.fill_between(xs,xs,neff_poly_model,color='grey',alpha=0.2,zorder=1,label='Ineffective')\n",
    "        plt.legend(loc='upper left')\n",
    "        \n",
    "    plt.plot([0,n],[n,n],c='grey',zorder=3)\n",
    "    plt.plot([n,n],[0,n],c='grey',zorder=3)\n",
    "\n",
    "    if n > 10: \n",
    "        plt.annotate('No Spatial Correlation = ' + str(np.round(n,2)),[1.2,n+0.4],c='grey',zorder=3)\n",
    "        if abs(n - neffective) > 1.5:\n",
    "            plt.annotate('With Spatial Correlation = ' + str(np.round(neffective_model,2)),[1.2,neffective_model+0.4],c='darkorange',zorder=5)\n",
    "            plt.plot([n,n],[0,neffective_model],c='darkorange',zorder=5); \n",
    "            plt.plot([0,n],[neffective_model,neffective_model],c='darkorange',zorder=5) \n",
    "    \n",
    "    plt.ylim([1,max_L]); plt.xlim([1,max_L]); plt.xscale(\"linear\"); plt.yscale(\"linear\")\n",
    "    plt.xlabel(\"Number of Samples\"); plt.ylabel(\"Number of Independent Samples\"); plt.title(r'Number of Independent Samples ($n_{effective}$) vs. Number of Samples')\n",
    "    add_grid()\n",
    "    \n",
    "    plt.subplots_adjust(left=0.0, bottom=0.0, right=2.0, top=1.2, wspace=0.2, hspace=0.2); \n",
    "    plt.savefig('SpatialBootstrap.jpg',dpi=600,bbox_inches='tight')  \n",
    "    plt.show()\n",
    "    \n",
    "interactive_plot1 = widgets.interactive_output(f_make1, {'n':n,'vrange':vrange,'seed':seed,'window':window,'poly':poly})\n",
    "interactive_plot1.clear_output(wait = True)                # reduce flickering by delaying plot updating  "
   ]
  },
  {
   "cell_type": "code",
   "execution_count": 20,
   "metadata": {
    "scrolled": false
   },
   "outputs": [
    {
     "data": {
      "application/vnd.jupyter.widget-view+json": {
       "model_id": "1cef6f901e0545a69d4601501f9b4c93",
       "version_major": 2,
       "version_minor": 0
      },
      "text/plain": [
       "VBox(children=(Text(value='                                                      Number of Effective Data, Mic…"
      ]
     },
     "metadata": {},
     "output_type": "display_data"
    },
    {
     "data": {
      "application/vnd.jupyter.widget-view+json": {
       "model_id": "f3487015831b434490c9c0e9c9e1f152",
       "version_major": 2,
       "version_minor": 0
      },
      "text/plain": [
       "Output()"
      ]
     },
     "metadata": {},
     "output_type": "display_data"
    }
   ],
   "source": [
    "display(ui_all, interactive_plot1)                            # display the interactive plot"
   ]
  },
  {
   "cell_type": "code",
   "execution_count": null,
   "metadata": {},
   "outputs": [],
   "source": []
  },
  {
   "cell_type": "code",
   "execution_count": 5,
   "metadata": {},
   "outputs": [
    {
     "ename": "SyntaxError",
     "evalue": "invalid syntax (586471281.py, line 1)",
     "output_type": "error",
     "traceback": [
      "\u001b[1;36m  Cell \u001b[1;32mIn[5], line 1\u001b[1;36m\u001b[0m\n\u001b[1;33m    UNDER CONSTRUCTION\u001b[0m\n\u001b[1;37m          ^\u001b[0m\n\u001b[1;31mSyntaxError\u001b[0m\u001b[1;31m:\u001b[0m invalid syntax\n"
     ]
    }
   ],
   "source": [
    "UNDER CONSTRUCTION"
   ]
  },
  {
   "cell_type": "code",
   "execution_count": null,
   "metadata": {},
   "outputs": [],
   "source": []
  },
  {
   "cell_type": "code",
   "execution_count": 49,
   "metadata": {},
   "outputs": [],
   "source": [
    "nreal = 100\n",
    "\n",
    "l = widgets.Text(value=r'                                                      Number of Effective Data, Michael Pyrcz, Professor, The University of Texas at Austin',layout=Layout(width='950px', height='30px'))\n",
    "\n",
    "n = widgets.IntSlider(min=1, max = max_L, value = 1,step = 1,description = r'$n$:',orientation='horizontal',layout=Layout(width='300px', height='50px'),continuous_update=False)\n",
    "n.style.handle_color = 'gray'\n",
    "\n",
    "vrange = widgets.FloatSlider(min=0.1, max = 200.0, value = 10.0,step=5,description = r'$\\gamma_{range}$',orientation='horizontal',layout=Layout(width='300px', height='50px'),continuous_update=False)\n",
    "vrange.style.handle_color = 'gray'\n",
    "\n",
    "ireal = widgets.IntSlider(min=1, max = nreal, value = 1,step = 1,description = r'$\\ell$:',orientation='horizontal',layout=Layout(width='300px', height='50px'),continuous_update=False)\n",
    "ireal.style.handle_color = 'gray'\n",
    "\n",
    "seed = widgets.IntSlider(min=100, max = 999, value = 1, description = r'$s$:',orientation='horizontal',layout=Layout(width='300px', height='50px'),continuous_update=False)\n",
    "seed.style.handle_color = 'gray'\n",
    "\n",
    "window = widgets.Checkbox(value=False,description='Conv. Fit',disabled=False,layout=Layout(width='200px', height='30px'))\n",
    "poly = widgets.Checkbox(value=True,description='Poly. Fit',disabled=False,layout=Layout(width='200px', height='30px'))\n",
    "\n",
    "ui1 = widgets.HBox([n,vrange,ireal,seed,],kwargs = {'justify_content':'center'})\n",
    "ui2 = widgets.HBox([window,poly,],kwargs = {'justify_content':'center'})\n",
    "ui_all2 = widgets.VBox([l,ui1,ui2],)\n",
    "\n",
    "def f_make2(n,vrange,ireal,seed,window,poly):\n",
    "    \n",
    "    nreal = 100;\n",
    "    maxf = 50; maxfboot = 15\n",
    "    dx = -5; dy = 3; pdfy = 13.0\n",
    "    \n",
    "    np.random.seed(seed=seed)\n",
    "    values = np.random.rand(max_L*2)*100\n",
    "    X,Y = np.split(values,2)\n",
    "    df = pd.DataFrame(np.vstack((X[:n],Y[:n])).T,columns = ['X','Y'])\n",
    "    \n",
    "    ax1 = plt.subplot(121)\n",
    "    plt.scatter(df['X'],df['Y'],marker='x',s=30,color='red',edgecolor='black',lw=2,zorder=10,label = 'Spatial Data')\n",
    "    plt.scatter(df['X'],df['Y'],marker='x',s=40,color='white',edgecolor='black',lw=4,zorder=9,label = 'Spatial Data')\n",
    "    plt.gca().add_patch(plt.Rectangle((0, 0), 100, 100, fill=False,edgecolor='black',lw=2))\n",
    "    \n",
    "    xx = np.arange(-3,3,0.1)\n",
    "    pdf = norm.pdf(xx, loc=0, scale=1) * pdfy\n",
    "    px = np.linspace(0,10,len(xx))\n",
    "    \n",
    "    for ipts in range(0,n):\n",
    "        if ipts == 0:\n",
    "            circle1 = plt.Circle((df['X'][ipts],df['Y'][ipts]),vrange,fill=True,color='red',edgecolor=None,\n",
    "                lw=0.0,alpha=0.05,zorder=1,label='Spatial Continuity')\n",
    "        else:\n",
    "            circle1 = plt.Circle((df['X'][ipts],df['Y'][ipts]),vrange,fill=True,color='red',edgecolor=None,\n",
    "                lw=0.0,alpha=0.05,zorder=1)\n",
    "        plt.gca().add_patch(circle1)\n",
    "        \n",
    "        plt.plot([df['X'][ipts]+dx,df['X'][ipts]+10+dx],[df['Y'][ipts]+dy,df['Y'][ipts]+dy],color='black')\n",
    "        plt.plot([df['X'][ipts]+dx,df['X'][ipts]+dx],[df['Y'][ipts]+dy,df['Y'][ipts]+5+dy],color='black')\n",
    "        plt.plot(px + df['X'][ipts] + dx,pdf + df['Y'][ipts] + dy,color = 'black',zorder=1)\n",
    "    \n",
    "    plt.xlim([-10,110]); plt.ylim([-10,110]); add_grid(); plt.xlabel(\"X (m)\"); plt.ylabel(\"Y (m)\") \n",
    "    plt.title('Random Spatial Dataset with Spatial Correlation Range Indicated')\n",
    "    \n",
    "    vario = GSLIB.make_variogram(nug=0.0,nst=1,it1=1,cc1=1.0,azi1=0.0,hmaj1=vrange,hmin1=vrange)\n",
    "    neffective,realizations = n_effective(df,'X','Y',seed=seed,nreal=nreal,vario=vario)\n",
    "    \n",
    "    for ipts in range(0,n):\n",
    "        y = df['Y'][ipts]+dy; x = df['X'][ipts]+dx+(realizations[ireal-1,ipts]-(-3.0))/(3.0-(-3.0))*10\n",
    "        plt.plot([x,x],[y,y+5],color='black',lw=3,zorder=1); plt.plot([x,x],[y,y+5],color='red',lw=1,zorder=3)\n",
    "    \n",
    "    ax2 = plt.subplot(122)\n",
    "    plt.axis('off'); plt.xlim([0, 10]); plt.ylim([0, 10])\n",
    "    \n",
    "    plt.plot([2,8],[6,6],color='black'); plt.plot([2,2],[6,9],color='black')\n",
    "    \n",
    "    xpmin = 2; xpmax = 8; ypmin = 6; ypmax = 9\n",
    "    xprange = xpmax - xpmin; yprange = ypmax - ypmin\n",
    "    xmin = -3.0; xmax = 3.0; nbin = 16\n",
    "    xhalf = (xmax-xmin)/(nbin-1)/2.0; xsize = xhalf*2.0\n",
    "    xrange = xmax - xmin\n",
    "    xbins = np.linspace(xmin,xmax,nbin)\n",
    "    ybins = np.linspace(0.0,maxfboot,11)\n",
    "    xcents = np.linspace(xmin + xhalf,xmax-xhalf,nbin-1)\n",
    "    \n",
    "    for ibin, xbin in enumerate(xbins):\n",
    "        xx = ((xbin-xmin)/xrange*xprange)+xpmin\n",
    "        plt.plot([xx,xx],[ypmin,ypmax],color='grey',lw=0.2,zorder=1)\n",
    "        if ibin % 2 == 0:\n",
    "            plt.plot([xx,xx],[ypmin-yprange*0.1,ypmin],color='black',zorder=3)\n",
    "            plt.annotate(np.round(xbin,1),(xx,ypmin-yprange*0.18),ha='center')\n",
    "        else: \n",
    "            plt.plot([xx,xx],[ypmin-yprange*0.05,ypmin],color='black',zorder=3)\n",
    "            plt.annotate(np.round(xbin,1),(xx,ypmin-yprange*0.13),ha='center')\n",
    "    \n",
    "#     for xbin in xbins:\n",
    "#         xx = ((xbin-xmin)/xrange*xprange)+xpmin\n",
    "#         plt.plot([xx,xx],[ypmin-yprange*0.05,ypmin],color='black',zorder=3)\n",
    "#         plt.annotate(np.round(xbin,1),(xx,ypmin-yprange*0.15),ha='center')\n",
    "#         plt.plot([xx,xx],[ypmin,ypmax],color='grey',lw=0.2,zorder=1)    \n",
    "    \n",
    "    for ybin in ybins:\n",
    "        yy = (ybin)*3/maxfboot+6\n",
    "        plt.plot([xpmin-xprange*0.04,xpmin],[yy,yy],color='black',zorder=3)\n",
    "        plt.plot([xpmin,xpmax],[yy,yy],color='grey',lw=0.2,zorder=1)\n",
    "        plt.annotate(np.round(ybin,1),(xpmin-xprange*0.05,yy),ha='right')\n",
    "    \n",
    "    histboot = np.histogram(realizations[ireal-1,:], bins=xbins, weights=None)[0]\n",
    "    average = np.average(realizations[ireal-1,:])\n",
    "    \n",
    "    for ibin, prop in enumerate(histboot):\n",
    "        xx = ((xcents[ibin]-xmin)/xrange*xprange)+xpmin\n",
    "        yy = histboot[ibin]*yprange/maxfboot\n",
    "        ax2.add_patch(plt.Rectangle((xx-xhalf,ypmin), xsize, yy, lw=1, fc = 'darkorange',color='black', ))\n",
    "        xavg = ((average-xmin)/xrange*xprange)+xpmin\n",
    "        #plt.plot([xavg,xavg],[6,9],color='red')\n",
    "        \n",
    "    for ipts in range(0,n):\n",
    "        xx = ((realizations[ireal-1,ipts]-xmin)/xrange*xprange)+xpmin \n",
    "        plt.scatter(xx,ypmin,color='red',edgecolor='black',s=20,alpha=1.0,zorder=100)\n",
    "        \n",
    "    plt.annotate('Spatial Bootstrap Distribution Realization',(xpmin+xprange*0.5,ypmax+yprange*0.08),ha='center') \n",
    "    plt.annotate('Feature (NSCORE)',(xpmin+xprange*0.5,ypmin-yprange*0.25),ha='center') \n",
    "    plt.annotate('Proportion',(xpmin-xprange*0.18,ypmin+yprange*0.5),va='center',rotation = 90.0) \n",
    "    \n",
    "    plt.plot([2,8],[1,1],color='black'); plt.plot([2,2],[1,4],color='black')\n",
    "    \n",
    "    xpmin = 2; xpmax = 8; ypmin = 1; ypmax = 4\n",
    "    xprange = xpmax - xpmin; yprange = ypmax - ypmin\n",
    "    xmin = -3.0; xmax = 3.0; nbin = 16\n",
    "    xhalf = (xmax-xmin)/(nbin-1)/2.0; xsize = xhalf*2.0\n",
    "    xrange = xmax - xmin\n",
    "    xbins = np.linspace(xmin,xmax,nbin)\n",
    "    ybins = np.linspace(0.0,maxf,11)\n",
    "    xcents = np.linspace(xmin + xhalf,xmax-xhalf,nbin-1)\n",
    "    \n",
    "    for ibin, xbin in enumerate(xbins):\n",
    "        xx = ((xbin-xmin)/xrange*xprange)+xpmin\n",
    "        plt.plot([xx,xx],[ypmin,ypmax],color='grey',lw=0.2,zorder=1)\n",
    "        if ibin % 2 == 0:\n",
    "            plt.plot([xx,xx],[ypmin-yprange*0.1,ypmin],color='black',zorder=3)\n",
    "            plt.annotate(np.round(xbin,1),(xx,ypmin-yprange*0.18),ha='center')\n",
    "        else: \n",
    "            plt.plot([xx,xx],[ypmin-yprange*0.05,ypmin],color='black',zorder=3)\n",
    "            plt.annotate(np.round(xbin,1),(xx,ypmin-yprange*0.13),ha='center')\n",
    "                 \n",
    "    for ybin in ybins:\n",
    "        yy = (ybin)*yprange/maxf+1\n",
    "        plt.plot([xpmin-xprange*0.04,xpmin],[yy,yy],color='black',zorder=3)\n",
    "        plt.plot([xpmin,xpmax],[yy,yy],color='grey',lw=0.2,zorder=1)\n",
    "        plt.annotate(np.round(ybin,1),(xpmin-xprange*0.05,yy),ha='right')\n",
    "    \n",
    "    average = np.average(realizations[ireal-1,:])\n",
    "    \n",
    "    averages = np.average(realizations,axis=1)\n",
    "    #hist_avg = np.histogram(averages[:ireal+1], bins=xbins, weights=None)[0]\n",
    "    hist_avg = np.histogram(averages[:ireal], bins=xbins, weights=None)[0]\n",
    "    \n",
    "    for ibin, prop in enumerate(hist_avg):\n",
    "        xx = ((xcents[ibin]-(-3.0))/(3-(-3))*6)+2\n",
    "        yy = hist_avg[ibin]*3/maxf\n",
    "        ax2.add_patch(plt.Rectangle((xx-xhalf,ypmin), xsize, yy, lw=1, fc = 'gold',color='black',zorder=10))\n",
    "        xavg = ((average-(-3.0))/(3.0-(-3.0))*6)+2\n",
    "        plt.plot([xavg,xavg],[6,9],color='red')\n",
    "    \n",
    "    #hist_avg_prior = np.histogram(averages[:ireal], bins=xbins, weights=None)[0]\n",
    "    if ireal > 1:\n",
    "        hist_avg_prior = np.histogram(averages[:ireal-1], bins=xbins, weights=None)[0]\n",
    "    \n",
    "        for ibin, prop in enumerate(hist_avg):\n",
    "            xx = ((xcents[ibin]-(-3.0))/(3-(-3))*6)+2\n",
    "            yy = hist_avg_prior[ibin]*3/maxf\n",
    "            ax2.add_patch(plt.Rectangle((xx-xhalf,ypmin), xsize, yy, lw=1, fc = 'red',color='black',zorder=15))\n",
    "            xavg = ((average-(-3.0))/(3.0-(-3.0))*6)+2\n",
    "            #plt.plot([xavg,xavg],[6,9],color='red')\n",
    "        \n",
    "    plt.annotate('Spatial Bootstrap Average Realization',(xpmin+xprange*0.5,ypmax+yprange*0.08),ha='center') \n",
    "    plt.annotate('Bootstrap Average (NSCORE)',(xpmin+xprange*0.5,ypmin-yprange*0.30),ha='center') \n",
    "    plt.annotate('Frequency',(0.8,2.5),va='center',rotation = 90.0) \n",
    "    \n",
    "    plt.subplots_adjust(left=0.0, bottom=0.0, right=2.0, top=1.2, wspace=0.2, hspace=0.2)\n",
    "    plt.savefig('SpatialBootstrap.jpg',dpi=600,bbox_inches='tight')  \n",
    "    plt.show()\n",
    "    \n",
    "interactive_plot2 = widgets.interactive_output(f_make2, {'n':n,'vrange':vrange,'ireal':ireal,'seed':seed,'window':window,'poly':poly})\n",
    "interactive_plot2.clear_output(wait = True)                # reduce flickering by delaying plot updating     "
   ]
  },
  {
   "cell_type": "code",
   "execution_count": 50,
   "metadata": {},
   "outputs": [
    {
     "data": {
      "application/vnd.jupyter.widget-view+json": {
       "model_id": "d09a1a2f52c94ed9acc03d8332c16575",
       "version_major": 2,
       "version_minor": 0
      },
      "text/plain": [
       "VBox(children=(Text(value='                                                      Number of Effective Data, Mic…"
      ]
     },
     "metadata": {},
     "output_type": "display_data"
    },
    {
     "data": {
      "application/vnd.jupyter.widget-view+json": {
       "model_id": "3648f48c68714bf5a0737d1f1da96b95",
       "version_major": 2,
       "version_minor": 0
      },
      "text/plain": [
       "Output()"
      ]
     },
     "metadata": {},
     "output_type": "display_data"
    }
   ],
   "source": [
    "display(ui_all2, interactive_plot2)                            # display the interactive plot"
   ]
  },
  {
   "cell_type": "code",
   "execution_count": 36,
   "metadata": {},
   "outputs": [
    {
     "data": {
      "text/plain": [
       "array([ 0.57744207, -0.12475772,  0.97571096,  1.59494036, -1.20194452,\n",
       "       -1.28620972,  0.82640545,  0.78747084,  0.65703186,  1.50348689])"
      ]
     },
     "execution_count": 36,
     "metadata": {},
     "output_type": "execute_result"
    }
   ],
   "source": [
    "nreal = 100\n",
    "\n",
    "l = widgets.Text(value=r'                                                      Number of Effective Data, Michael Pyrcz, Professor, The University of Texas at Austin',layout=Layout(width='950px', height='30px'))\n",
    "\n",
    "n = widgets.IntSlider(min=1, max = max_L, value = 1,step = 1,description = r'$n$:',orientation='horizontal',layout=Layout(width='300px', height='50px'),continuous_update=False)\n",
    "n.style.handle_color = 'gray'\n",
    "\n",
    "vrange = widgets.FloatSlider(min=0.1, max = 200.0, value = 10.0,step=5,description = r'$\\gamma_{range}$',orientation='horizontal',layout=Layout(width='300px', height='50px'),continuous_update=False)\n",
    "vrange.style.handle_color = 'gray'\n",
    "\n",
    "ireal = widgets.IntSlider(min=1, max = nreal, value = 1,step = 1,description = r'$\\ell$:',orientation='horizontal',layout=Layout(width='300px', height='50px'),continuous_update=False)\n",
    "ireal.style.handle_color = 'gray'\n",
    "\n",
    "seed = widgets.IntSlider(min=100, max = 999, value = 1, description = r'$s$:',orientation='horizontal',layout=Layout(width='300px', height='50px'),continuous_update=False)\n",
    "seed.style.handle_color = 'gray'\n",
    "\n",
    "window = widgets.Checkbox(value=False,description='Conv. Fit',disabled=False,layout=Layout(width='200px', height='30px'))\n",
    "poly = widgets.Checkbox(value=True,description='Poly. Fit',disabled=False,layout=Layout(width='200px', height='30px'))\n",
    "\n",
    "ui1 = widgets.HBox([n,vrange,ireal,seed,],kwargs = {'justify_content':'center'})\n",
    "ui2 = widgets.HBox([window,poly,],kwargs = {'justify_content':'center'})\n",
    "ui_all2 = widgets.VBox([l,ui1,ui2],)\n",
    "\n",
    "def f_make2(n,vrange,ireal,seed,window,poly):\n",
    "    \n",
    "    nreal = 100;\n",
    "    maxf = 50; maxfboot = 15\n",
    "    dx = -5; dy = 3; pdfy = 13.0\n",
    "    \n",
    "    np.random.seed(seed=seed)\n",
    "    values = np.random.rand(max_L*2)*100\n",
    "    X,Y = np.split(values,2)\n",
    "    df = pd.DataFrame(np.vstack((X[:n],Y[:n])).T,columns = ['X','Y'])\n",
    "    \n",
    "    ax1 = plt.subplot(121)\n",
    "    plt.scatter(df['X'],df['Y'],marker='x',s=30,color='red',edgecolor='black',lw=2,zorder=10,label = 'Spatial Data')\n",
    "    plt.scatter(df['X'],df['Y'],marker='x',s=40,color='white',edgecolor='black',lw=4,zorder=9,label = 'Spatial Data')\n",
    "    plt.gca().add_patch(plt.Rectangle((0, 0), 100, 100, fill=False,edgecolor='black',lw=2))\n",
    "    \n",
    "    xx = np.arange(-3,3,0.1)\n",
    "    pdf = norm.pdf(xx, loc=0, scale=1) * pdfy\n",
    "    px = np.linspace(0,10,len(xx))\n",
    "    \n",
    "    for ipts in range(0,n):\n",
    "        if ipts == 0:\n",
    "            circle1 = plt.Circle((df['X'][ipts],df['Y'][ipts]),vrange,fill=True,color='red',edgecolor=None,\n",
    "                lw=0.0,alpha=0.05,zorder=1,label='Spatial Continuity')\n",
    "        else:\n",
    "            circle1 = plt.Circle((df['X'][ipts],df['Y'][ipts]),vrange,fill=True,color='red',edgecolor=None,\n",
    "                lw=0.0,alpha=0.05,zorder=1)\n",
    "        plt.gca().add_patch(circle1)\n",
    "        \n",
    "        plt.plot([df['X'][ipts]+dx,df['X'][ipts]+10+dx],[df['Y'][ipts]+dy,df['Y'][ipts]+dy],color='black')\n",
    "        plt.plot([df['X'][ipts]+dx,df['X'][ipts]+dx],[df['Y'][ipts]+dy,df['Y'][ipts]+5+dy],color='black')\n",
    "        plt.plot(px + df['X'][ipts] + dx,pdf + df['Y'][ipts] + dy,color = 'black',zorder=1)\n",
    "    \n",
    "    plt.xlim([-10,110]); plt.ylim([-10,110]); add_grid(); plt.xlabel(\"X (m)\"); plt.ylabel(\"Y (m)\") \n",
    "    plt.title('Random Spatial Dataset with Spatial Correlation Range Indicated')\n",
    "    \n",
    "    vario = GSLIB.make_variogram(nug=0.0,nst=1,it1=1,cc1=1.0,azi1=0.0,hmaj1=vrange,hmin1=vrange)\n",
    "    neffective,realizations = n_effective(df,'X','Y',seed=seed,nreal=nreal,vario=vario)\n",
    "    \n",
    "    for ipts in range(0,n):\n",
    "        y = df['Y'][ipts]+dy; x = df['X'][ipts]+dx+(realizations[ireal,ipts]-(-3.0))/(3.0-(-3.0))*10\n",
    "        plt.plot([x,x],[y,y+5],color='black',lw=3,zorder=1); plt.plot([x,x],[y,y+5],color='red',lw=1,zorder=3)\n",
    "    \n",
    "    ax2 = plt.subplot(122)\n",
    "    plt.axis('off'); plt.xlim([0, 10]); plt.ylim([0, 10])\n",
    "    \n",
    "    plt.plot([2,8],[6,6],color='black'); plt.plot([2,2],[6,9],color='black')\n",
    "    \n",
    "    xpmin = 2; xpmax = 8; ypmin = 6; ypmax = 9\n",
    "    xprange = xpmax - xpmin; yprange = ypmax - ypmin\n",
    "    xmin = -3.0; xmax = 3.0; nbin = 6\n",
    "    xhalf = (xmax-xmin)/(nbin-1)/2.0; xsize = xhalf*2.0\n",
    "    xrange = xmax - xmin\n",
    "    xbins = np.linspace(xmin,xmax,nbin)\n",
    "    ybins = np.linspace(0.0,maxfboot,11)\n",
    "    xcents = np.linspace(xmin + xhalf,xmax-xhalf,nbin-1)\n",
    "    \n",
    "    for xbin in xbins:\n",
    "        xx = ((xbin-xmin)/xrange*xprange)+xpmin\n",
    "        plt.plot([xx,xx],[ypmin-yprange*0.05,ypmin],color='black',zorder=3)\n",
    "        plt.annotate(np.round(xbin,1),(xx,ypmin-yprange*0.15),ha='center')\n",
    "        plt.plot([xx,xx],[ypmin,ypmax],color='grey',lw=0.2,zorder=1)    \n",
    "    \n",
    "    for ybin in ybins:\n",
    "        yy = (ybin)*3/maxfboot+6\n",
    "        plt.plot([xpmin-xprange*0.04,xpmin],[yy,yy],color='black',zorder=3)\n",
    "        plt.plot([xpmin,xpmax],[yy,yy],color='grey',lw=0.2,zorder=1)\n",
    "        plt.annotate(np.round(ybin,1),(xpmin-xprange*0.05,yy),ha='right')\n",
    "    \n",
    "    histboot = np.histogram(realizations[ireal,:], bins=xbins, weights=None)[0]\n",
    "    average = np.average(realizations[ireal,:])\n",
    "    \n",
    "    for ibin, prop in enumerate(histboot):\n",
    "        xx = ((xcents[ibin]-xmin)/xrange*xprange)+xpmin\n",
    "        yy = histboot[ibin]*yprange/maxfboot\n",
    "        ax2.add_patch(plt.Rectangle((xx-xhalf,ypmin), xsize, yy, lw=1, fc = 'darkorange',color='black', ))\n",
    "        xavg = ((average-xmin)/xrange*xprange)+xpmin\n",
    "        #plt.plot([xavg,xavg],[6,9],color='red')\n",
    "        \n",
    "    for ipts in range(0,n):\n",
    "        xx = ((realizations[ireal,ipts]-xmin)/xrange*xprange)+xpmin \n",
    "        plt.scatter(xx,ypmin,color='red',edgecolor='black',s=20,alpha=1.0,zorder=100)\n",
    "        \n",
    "    plt.annotate('Spatial Bootstrap Distribution Realization',(xpmin+xprange*0.5,ypmax+yprange*0.08),ha='center') \n",
    "    plt.annotate('Feature (NSCORE)',(xpmin+xprange*0.5,ypmin-yprange*0.25),ha='center') \n",
    "    plt.annotate('Proportion',(xpmin-xprange*0.18,ypmin+yprange*0.5),va='center',rotation = 90.0) \n",
    "    \n",
    "    plt.plot([2,8],[1,1],color='black'); plt.plot([2,2],[1,4],color='black')\n",
    "    \n",
    "    xpmin = 2; xpmax = 8; ypmin = 1; ypmax = 4\n",
    "    xprange = xpmax - xpmin; yprange = ypmax - ypmin\n",
    "    xmin = -3.0; xmax = 3.0; nbin = 16\n",
    "    xhalf = (xmax-xmin)/(nbin-1)/2.0; xsize = xhalf*2.0\n",
    "    xrange = xmax - xmin\n",
    "    xbins = np.linspace(xmin,xmax,nbin)\n",
    "    ybins = np.linspace(0.0,maxf,11)\n",
    "    xcents = np.linspace(xmin + xhalf,xmax-xhalf,nbin-1)\n",
    "    \n",
    "    for ibin, xbin in enumerate(xbins):\n",
    "        xx = ((xbin-xmin)/xrange*xprange)+xpmin\n",
    "        plt.plot([xx,xx],[ypmin,ypmax],color='grey',lw=0.2,zorder=1)\n",
    "        if ibin % 2 == 0:\n",
    "            plt.plot([xx,xx],[ypmin-yprange*0.1,ypmin],color='black',zorder=3)\n",
    "            plt.annotate(np.round(xbin,1),(xx,ypmin-yprange*0.18),ha='center')\n",
    "        else: \n",
    "            plt.plot([xx,xx],[ypmin-yprange*0.05,ypmin],color='black',zorder=3)\n",
    "            plt.annotate(np.round(xbin,1),(xx,ypmin-yprange*0.13),ha='center')\n",
    "                 \n",
    "    for ybin in ybins:\n",
    "        yy = (ybin)*yprange/maxf+1\n",
    "        plt.plot([xpmin-xprange*0.04,xpmin],[yy,yy],color='black',zorder=3)\n",
    "        plt.plot([xpmin,xpmax],[yy,yy],color='grey',lw=0.2,zorder=1)\n",
    "        plt.annotate(np.round(ybin,1),(xpmin-xprange*0.05,yy),ha='right')\n",
    "    \n",
    "    average = np.average(realizations[ireal,:])\n",
    "    \n",
    "    averages = np.average(realizations,axis=1)\n",
    "    #hist_avg = np.histogram(averages[:ireal+1], bins=xbins, weights=None)[0]\n",
    "    \n",
    "    for ibin, prop in enumerate(hist_avg):\n",
    "        xx = ((xcents[ibin]-(-3.0))/(3-(-3))*6)+2\n",
    "        yy = hist_avg[ibin]*3/maxf\n",
    "        ax2.add_patch(plt.Rectangle((xx-xhalf,ypmin), xsize, yy, lw=1, fc = 'gold',color='black',zorder=10))\n",
    "        xavg = ((average-(-3.0))/(3.0-(-3.0))*6)+2\n",
    "        plt.plot([xavg,xavg],[6,9],color='red')\n",
    "    \n",
    "    hist_avg_prior = np.histogram(averages[:ireal], bins=xbins, weights=None)[0]\n",
    "    \n",
    "    for ibin, prop in enumerate(hist_avg):\n",
    "        xx = ((xcents[ibin]-(-3.0))/(3-(-3))*6)+2\n",
    "        yy = hist_avg_prior[ibin]*3/maxf\n",
    "        ax2.add_patch(plt.Rectangle((xx-xhalf,ypmin), xsize, yy, lw=1, fc = 'red',color='black',zorder=15))\n",
    "        xavg = ((average-(-3.0))/(3.0-(-3.0))*6)+2\n",
    "        #plt.plot([xavg,xavg],[6,9],color='red')\n",
    "        \n",
    "    plt.annotate('Spatial Bootstrap Average Realization',(xpmin+xprange*0.5,ypmax+yprange*0.08),ha='center') \n",
    "    plt.annotate('Bootstrap Average (NSCORE)',(xpmin+xprange*0.5,ypmin-yprange*0.30),ha='center') \n",
    "    plt.annotate('Frequency',(0.8,2.5),va='center',rotation = 90.0) \n",
    "    \n",
    "    plt.subplots_adjust(left=0.0, bottom=0.0, right=2.0, top=1.2, wspace=0.2, hspace=0.2)\n",
    "    plt.savefig('SpatialBootstrap.jpg',dpi=600,bbox_inches='tight')  \n",
    "    plt.show()\n",
    "    \n",
    "interactive_plot2 = widgets.interactive_output(f_make2, {'n':n,'vrange':vrange,'ireal':ireal,'seed':seed,'window':window,'poly':poly})\n",
    "interactive_plot2.clear_output(wait = True)                # reduce flickering by delaying plot updating     "
   ]
  },
  {
   "cell_type": "code",
   "execution_count": 255,
   "metadata": {},
   "outputs": [
    {
     "data": {
      "text/plain": [
       "array([-2.8, -2.4, -2. , -1.6, -1.2, -0.8, -0.4,  0. ,  0.4,  0.8,  1.2,\n",
       "        1.6,  2. ,  2.4,  2.8])"
      ]
     },
     "execution_count": 255,
     "metadata": {},
     "output_type": "execute_result"
    }
   ],
   "source": [
    "xmin = -3.0; xmax = 3.0; nbin = 16\n",
    "xhalf = (xmax-xmin)/(nbin-1)/2.0\n",
    "xbins = np.linspace(xmin,xmax,nbin)\n",
    "ybins = np.linspace(0.0,maxf,11)\n",
    "xcents = np.linspace(xmin + xhalf,xmax-xhalf,nbin-1)\n",
    "\n",
    "xcents"
   ]
  },
  {
   "cell_type": "code",
   "execution_count": 206,
   "metadata": {},
   "outputs": [
    {
     "data": {
      "text/plain": [
       "array([0, 0, 3, 1, 0, 0], dtype=int64)"
      ]
     },
     "execution_count": 206,
     "metadata": {},
     "output_type": "execute_result"
    }
   ],
   "source": [
    "hist_avg"
   ]
  },
  {
   "cell_type": "code",
   "execution_count": 207,
   "metadata": {},
   "outputs": [
    {
     "data": {
      "text/plain": [
       "array([-3., -2., -1.,  0.,  1.,  2.,  3.])"
      ]
     },
     "execution_count": 207,
     "metadata": {},
     "output_type": "execute_result"
    }
   ],
   "source": [
    "xbins"
   ]
  },
  {
   "cell_type": "code",
   "execution_count": 210,
   "metadata": {},
   "outputs": [
    {
     "data": {
      "text/plain": [
       "(array([0, 0, 3, 1, 0, 0], dtype=int64),\n",
       " array([-3., -2., -1.,  0.,  1.,  2.,  3.]))"
      ]
     },
     "execution_count": 210,
     "metadata": {},
     "output_type": "execute_result"
    }
   ],
   "source": [
    "averages[:ireal]\n",
    "\n",
    "np.histogram(averages[:ireal], bins=xbins, weights=None)"
   ]
  },
  {
   "cell_type": "code",
   "execution_count": 212,
   "metadata": {},
   "outputs": [
    {
     "data": {
      "text/plain": [
       "(array([0, 0, 2, 1, 0, 0], dtype=int64),\n",
       " array([-3., -2., -1.,  0.,  1.,  2.,  3.]))"
      ]
     },
     "execution_count": 212,
     "metadata": {},
     "output_type": "execute_result"
    }
   ],
   "source": [
    "np.histogram(averages[:ireal-1], bins=xbins, weights=None)"
   ]
  },
  {
   "cell_type": "code",
   "execution_count": 211,
   "metadata": {},
   "outputs": [
    {
     "data": {
      "text/plain": [
       "array([-0.10180635,  0.3473193 , -0.08361122, -0.4094051 ])"
      ]
     },
     "execution_count": 211,
     "metadata": {},
     "output_type": "execute_result"
    }
   ],
   "source": [
    "averages[:ireal]"
   ]
  },
  {
   "cell_type": "code",
   "execution_count": 213,
   "metadata": {},
   "outputs": [
    {
     "data": {
      "text/plain": [
       "array([-0.10180635,  0.3473193 , -0.08361122])"
      ]
     },
     "execution_count": 213,
     "metadata": {},
     "output_type": "execute_result"
    }
   ],
   "source": [
    "averages[:ireal-1]"
   ]
  },
  {
   "cell_type": "code",
   "execution_count": 214,
   "metadata": {},
   "outputs": [
    {
     "data": {
      "text/plain": [
       "0.24737254766389993"
      ]
     },
     "execution_count": 214,
     "metadata": {},
     "output_type": "execute_result"
    }
   ],
   "source": [
    "np.average(realizations[ireal,:])"
   ]
  },
  {
   "cell_type": "code",
   "execution_count": 217,
   "metadata": {},
   "outputs": [
    {
     "data": {
      "text/plain": [
       "0.24737254766389993"
      ]
     },
     "execution_count": 217,
     "metadata": {},
     "output_type": "execute_result"
    }
   ],
   "source": [
    "averages[ireal]"
   ]
  },
  {
   "cell_type": "code",
   "execution_count": 215,
   "metadata": {},
   "outputs": [
    {
     "data": {
      "text/plain": [
       "4"
      ]
     },
     "execution_count": 215,
     "metadata": {},
     "output_type": "execute_result"
    }
   ],
   "source": [
    "ireal"
   ]
  },
  {
   "cell_type": "code",
   "execution_count": 77,
   "metadata": {},
   "outputs": [
    {
     "data": {
      "image/png": "[encoded data removed]",
      "text/plain": [
       "<Figure size 640x480 with 4 Axes>"
      ]
     },
     "metadata": {},
     "output_type": "display_data"
    }
   ],
   "source": [
    "plt.subplot2grid((3,2), (0,0), colspan=2, rowspan = 2)\n",
    "\n",
    "seed = 103; n = 10; max_L = 100; ireal = 2; nreal = 100\n",
    "dx = -5; dy = 3; pdfy = 13.0\n",
    "\n",
    "np.random.seed(seed=seed)\n",
    "values = np.random.rand(max_L*2)*100\n",
    "X,Y = np.split(values,2)\n",
    "df = pd.DataFrame(np.vstack((X[:n],Y[:n])).T,columns = ['X','Y'])\n",
    "\n",
    "ax1 = plt.subplot(121)\n",
    "plt.scatter(df['X'],df['Y'],color='red',edgecolor='black',zorder=10,label = 'Spatial Data')\n",
    "plt.gca().add_patch(plt.Rectangle((0, 0), 100, 100, fill=False,edgecolor='black',lw=2))\n",
    "\n",
    "xx = np.arange(-3,3,0.1)\n",
    "pdf = norm.pdf(xx, loc=0, scale=1) * pdfy\n",
    "px = np.linspace(0,10,len(xx))\n",
    "\n",
    "for ipts in range(0,n):\n",
    "    if ipts == 0:\n",
    "        circle1 = plt.Circle((df['X'][ipts],df['Y'][ipts]),vrange,fill=True,color='red',edgecolor=None,\n",
    "            lw=0.0,alpha=0.05,zorder=1,label='Spatial Continuity')\n",
    "    else:\n",
    "        circle1 = plt.Circle((df['X'][ipts],df['Y'][ipts]),vrange,fill=True,color='red',edgecolor=None,\n",
    "            lw=0.0,alpha=0.05,zorder=1)\n",
    "    plt.gca().add_patch(circle1)\n",
    "    \n",
    "    plt.plot([df['X'][ipts]+dx,df['X'][ipts]+10+dx],[df['Y'][ipts]+dy,df['Y'][ipts]+dy],color='black')\n",
    "    plt.plot([df['X'][ipts]+dx,df['X'][ipts]+dx],[df['Y'][ipts]+dy,df['Y'][ipts]+5+dy],color='black')\n",
    "    plt.plot(px + df['X'][ipts] + dx,pdf + df['Y'][ipts] + dy,color = 'black',zorder=1)\n",
    "\n",
    "plt.xlim([-10,110]); plt.ylim([-10,110]); add_grid(); plt.xlabel(\"X (m)\"); plt.ylabel(\"Y (m)\") \n",
    "plt.title('Random Spatial Dataset with Spatial Correlation Range Indicated')\n",
    "\n",
    "vario = GSLIB.make_variogram(nug=0.0,nst=1,it1=1,cc1=1.0,azi1=0.0,hmaj1=vrange,hmin1=vrange)\n",
    "neffective,realizations = n_effective(df,'X','Y',seed=seed,nreal=nreal,vario=vario)\n",
    "\n",
    "for ipts in range(0,n):\n",
    "    y = df['Y'][ipts]+dy; x = df['X'][ipts]+dx+(realizations[ireal,ipts]-(-3.0))/(3.0-(-3.0))*10\n",
    "    plt.plot([x,x],[y,y+5],color='black',lw=3,zorder=1); plt.plot([x,x],[y,y+5],color='red',lw=1,zorder=3)\n",
    "\n",
    "plt.subplot2grid((3,2), (2,0))\n",
    "\n",
    "plt.hist(realizations[ireal,:],color='darkorange',edgecolor='black',bins=np.linspace(-3,3,20))\n",
    "\n",
    "plt.subplot2grid((3,2), (2,1))\n",
    "\n",
    "plt.subplots_adjust(left=0.0, bottom=0.0, right=1.0, top=1.5, wspace=0.2, hspace=0.2); plt.show()"
   ]
  },
  {
   "cell_type": "code",
   "execution_count": 29,
   "metadata": {},
   "outputs": [
    {
     "data": {
      "application/vnd.jupyter.widget-view+json": {
       "model_id": "5e86c6eb67f24fbfa39644106f441258",
       "version_major": 2,
       "version_minor": 0
      },
      "text/plain": [
       "VBox(children=(Text(value='                                                      Number of Effective Data, Mic…"
      ]
     },
     "metadata": {},
     "output_type": "display_data"
    },
    {
     "data": {
      "application/vnd.jupyter.widget-view+json": {
       "model_id": "4ef19a72599f40bd9400780ab338cca6",
       "version_major": 2,
       "version_minor": 0
      },
      "text/plain": [
       "Output(outputs=({'output_type': 'display_data', 'data': {'text/plain': '<Figure size 640x480 with 2 Axes>', 'i…"
      ]
     },
     "metadata": {},
     "output_type": "display_data"
    }
   ],
   "source": [
    "display(ui1, interactive_plot1)                            # display the interactive plot"
   ]
  },
  {
   "cell_type": "code",
   "execution_count": 23,
   "metadata": {},
   "outputs": [
    {
     "ename": "TypeError",
     "evalue": "can only concatenate list (not \"int\") to list",
     "output_type": "error",
     "traceback": [
      "\u001b[1;31m---------------------------------------------------------------------------\u001b[0m",
      "\u001b[1;31mTypeError\u001b[0m                                 Traceback (most recent call last)",
      "Cell \u001b[1;32mIn[23], line 1\u001b[0m\n\u001b[1;32m----> 1\u001b[0m a \u001b[38;5;241m=\u001b[39m [\u001b[38;5;241m12\u001b[39m,\u001b[38;5;241m12\u001b[39m]\u001b[38;5;241m+\u001b[39m \u001b[38;5;241m2\u001b[39m\n\u001b[0;32m      2\u001b[0m a\n",
      "\u001b[1;31mTypeError\u001b[0m: can only concatenate list (not \"int\") to list"
     ]
    }
   ],
   "source": [
    "a = [12,12]+ 2\n",
    "a"
   ]
  },
  {
   "cell_type": "code",
   "execution_count": null,
   "metadata": {},
   "outputs": [],
   "source": [
    "olsres2 = smf.ols(formula = 'Y ~ X + I(X**2)-1', data = df).fit()\n",
    "print(olsres2.summary())\n",
    "xs = np.arange(1,max_L,1)\n",
    "plt.plot(xs,olsres2.params[1]*np.power(xs,2) + olsres2.params[0]*xs)"
   ]
  },
  {
   "cell_type": "code",
   "execution_count": null,
   "metadata": {},
   "outputs": [],
   "source": [
    "olsres2.params[1]"
   ]
  },
  {
   "cell_type": "code",
   "execution_count": null,
   "metadata": {},
   "outputs": [],
   "source": [
    "l = widgets.Text(value='                                 Monte Carlo Method to Estimate Mean Demonstration, Michael Pyrcz, Professor, The University of Texas at Austin',layout=Layout(width='950px', height='30px'))\n",
    "\n",
    "L = widgets.IntSlider(min=1, max = 40, value = 1, description = '$L$:',orientation='horizontal',layout=Layout(width='230px', height='50px'),continuous_update=False)\n",
    "L.style.handle_color = 'gray'\n",
    "\n",
    "dist1 = widgets.Dropdown(\n",
    "    options=['Uniform','Triangular','Gaussian'],\n",
    "    value='Gaussian',\n",
    "    description='$X_1$:',\n",
    "    disabled=False,\n",
    "    layout=Layout(width='200px', height='30px')\n",
    ")\n",
    "min1 = widgets.FloatSlider(min=0.0, max = 100.0, value = 10.0, description = 'Min',orientation='horizontal',layout=Layout(width='230px', height='50px'),continuous_update=False)\n",
    "min1.style.handle_color = 'gray'\n",
    "max1 = widgets.FloatSlider(min=0.0, max = 100.0, value = 90.0, description = 'Max',orientation='horizontal',layout=Layout(width='230px', height='50px'),continuous_update=False)\n",
    "max1.style.handle_color = 'gray'\n",
    "\n",
    "ui = widgets.HBox([L,dist1,min1,max1],kwargs = {'justify_content':'center'})\n",
    "ui1 = widgets.VBox([l,ui],)\n",
    "\n",
    "def make_sample_cdist(dist,zmin,zmax,L):\n",
    "    cdf = np.linspace(0.001,0.999,1000)\n",
    "    pvals = np.random.random(size = L)\n",
    "    if dist == 'Triangular':  \n",
    "        distribution = stats.triang(loc = zmin,c=0.5,scale = zmax-zmin)\n",
    "    if dist == 'Uniform':        \n",
    "        distribution = stats.uniform(loc = zmin,scale = zmax-zmin)\n",
    "    if dist == 'Gaussian':\n",
    "        mean = (zmax + zmin)*0.5; stdev = (zmax - zmin)/6.0\n",
    "        distribution = stats.norm(loc = mean,scale = stdev)\n",
    "    \n",
    "    cdfx = distribution.ppf(cdf)\n",
    "    sample = distribution.ppf(pvals)\n",
    "    \n",
    "    return sample, pvals, cdfx, cdf \n",
    "        \n",
    "def f_make1(L,dist1,min1,max1): \n",
    "    np.random.seed(seed = 73073)\n",
    "    sample, pvals, cdfx, cdf = make_sample_cdist(dist1,min1,max1,L)\n",
    "    truth_mean = np.average([min1,max1])\n",
    "    counts = np.arange(1,len(sample)+1,1)\n",
    "\n",
    "    L_all = 40\n",
    "    np.random.seed(seed = 73073)\n",
    "    sample_all, pvals_all, cdfx_all, cdf_all = make_sample_cdist(dist1,min1,max1,L_all)\n",
    "    prop_all = np.cumsum(sample_all, axis=0, dtype=None, out=None)/np.arange(1,len(sample_all)+1,1)\n",
    "    counts_all = np.arange(1,len(sample_all)+1,1)\n",
    "    \n",
    "    ax1 = plt.subplot(121)\n",
    "    plt.plot(cdfx,cdf,'--',color='black',linewidth = 3,zorder=10); add_grid(ax1)\n",
    "    plt.xlim(0,100); plt.ylim(0,1.0); plt.xlabel(\"$X_1$\"); plt.title(\"Cumulative Distribution Function, $X_1$\"); plt.ylabel('Cumulative Probability')\n",
    "     \n",
    "    for l in range(0,L):\n",
    "        alpha = max(0.02,(6 - (L-l) )/5)\n",
    "        dhead = 1;lhead = 0.02        \n",
    "        if l == L-1:\n",
    "            plt.plot([0.0,sample[l]],[pvals[l],pvals[l]],color='red',alpha = alpha,lw=1,zorder=1)\n",
    "            plt.plot([sample[l],sample[l]],[pvals[l],lhead+0.02],color='red',alpha = alpha,lw=1,zorder=1)\n",
    "            head = plt.Polygon([[sample[l],0.02],[sample[l]-dhead,lhead+0.02],[sample[l]+dhead,lhead+0.02],[sample[l],0.02]], color='red',alpha = alpha,zorder=1)\n",
    "            plt.annotate(int(sample[l]),[sample[l]+1,0.07],rotation=90.0,color='red',alpha = alpha)\n",
    "            plt.scatter(sample[l],0.01,s=30,color='red',edgecolor='black',alpha=1.0)\n",
    "            plt.gca().add_patch(head)\n",
    "        else:\n",
    "            plt.plot([0.0,sample[l]],[pvals[l],pvals[l]],color='darkorange',alpha = alpha,lw=1,zorder=1)\n",
    "            plt.plot([sample[l],sample[l]],[pvals[l],lhead+0.02],color='darkorange',alpha = alpha,lw=1,zorder=1)\n",
    "            head = plt.Polygon([[sample[l],0.02],[sample[l]-dhead,lhead+0.02],[sample[l]+dhead,lhead+0.02],[sample[l],0.02]], color='darkorange',alpha = alpha,zorder=1)\n",
    "            plt.annotate(int(sample[l]),[sample[l]+1,0.07],rotation=90.0,color='darkorange',alpha = alpha)\n",
    "            plt.scatter(sample[l],0.01,s=10,color='yellow',edgecolor='black',alpha=1.0)\n",
    "            plt.gca().add_patch(head)            \n",
    "\n",
    "    ax2 = plt.subplot(122)\n",
    "    plt.hist(sample,density= False,bins=np.linspace(0,100,20),weights=None,color='red',alpha=1.0,edgecolor='black',zorder=1)\n",
    "    if l > 0:\n",
    "        plt.hist(sample[:-1],density= False,bins=np.linspace(0,100,20),weights=None,color='darkorange',alpha=0.8,edgecolor='black',zorder=5)\n",
    "    \n",
    "    for l in range(0,L):\n",
    "        if l == L-1:\n",
    "            plt.scatter(sample[l],0.1,s=30,color='red',edgecolor='black',alpha=1.0,zorder=l+10)\n",
    "        else:\n",
    "            plt.scatter(sample[l],0.1,s=10,color='yellow',edgecolor='black',alpha=1.0,zorder=l+10)\n",
    "    \n",
    "    plt.vlines(truth_mean,0,10,colors='black',zorder=1000)\n",
    "    plt.annotate('Population Mean',[truth_mean+1,7],rotation=270.0)\n",
    "    \n",
    "    plt.plot(prop_all,counts_all/L_all*10,color='gray',lw=2,ls='--',zorder=999)\n",
    "    plt.plot(prop_all[:l+1],counts_all[:l+1]/L_all*10,color='blue',lw=2,zorder=1000)\n",
    "    plt.scatter(np.average(sample),L/L_all*10,c='blue',edgecolor='black',zorder=1000,label='Sample Mean')\n",
    "    plt.annotate('Sample Mean',[np.average(sample)+1,L/L_all*10+0.2],color='blue',zorder=1000)\n",
    "    \n",
    "    plt.xlabel(r\"$x_{\\alpha}, \\alpha = 1,\\ldots,L$\"); \n",
    "    plt.title(r\"Monte Carlo Arithmetic Average\"); plt.ylabel('Frequency')\n",
    "    plt.xlim([0,100]); plt.ylim([0,10]); add_grid(ax2)\n",
    "    plt.legend(loc='upper left')\n",
    "    \n",
    "    ax2 = plt.gca().twinx()\n",
    "    ax2.set_ylabel('Number of Realizations',color='blue'); ax2.set_ylim([1,L_all])\n",
    "    ax2.spines['right'].set_color('blue'); ax2.tick_params(axis='y', colors='blue')\n",
    "    \n",
    "    plt.subplots_adjust(left=0.0, bottom=0.0, right=2.0, top=1.2, wspace=0.3, hspace=0.2)\n",
    "    plt.show()    \n",
    "\n",
    "interactive_plot1 = widgets.interactive_output(f_make1, {'L':L,'dist1':dist1,'min1':min1,'max1':max1})\n",
    "interactive_plot1.clear_output(wait = True)                # reduce flickering by delaying plot updating  "
   ]
  },
  {
   "cell_type": "code",
   "execution_count": null,
   "metadata": {},
   "outputs": [],
   "source": []
  },
  {
   "cell_type": "code",
   "execution_count": null,
   "metadata": {},
   "outputs": [],
   "source": []
  },
  {
   "cell_type": "code",
   "execution_count": null,
   "metadata": {},
   "outputs": [],
   "source": [
    "display(ui1, interactive_plot1)                            # display the interactive plot"
   ]
  },
  {
   "cell_type": "markdown",
   "metadata": {},
   "source": [
    "#### Monte Carlo Method to Calculate a Geometric Ratio of the Area of Circle Inscribed in a Square Demonstration\n",
    "\n",
    "Now let's set up our second dashboard. This is an example where we solve a geometric problem, the ratio of circle inscribed in a square by random sampling. \n",
    "\n",
    "* All we need to calculate is whether a point is in the circle, easy to do given the circle centroid and radius. \n",
    "\n",
    "#### Monte Carlo Method to Calculate Geometric Ratio of the Area of Circle Inscribed in a Square\n",
    "\n",
    "1. randomly sample a point within the square $v_1$\n",
    "    * sample independent uniform random values over x and y.\n",
    "2. check if the point is within the circle with a distance to center of the circle\n",
    "    * inside if less than the circle's radius\n",
    "3. calculate the proportion of points within the circule\n",
    "4. go to 1., continue until enough samples for the required accuracy\n",
    "\n",
    "From geometry we can calculate the exact solution:\n",
    "\n",
    "\\begin{equation}\n",
    "\\frac{\\pi \\cdot r^2}{\\left( 2 \\cdot r \\right)^2} = \\frac{\\pi \\cdot r^2}{4 \\cdot r^2} = \\frac{\\pi}{4} \n",
    "\\end{equation}"
   ]
  },
  {
   "cell_type": "code",
   "execution_count": null,
   "metadata": {},
   "outputs": [],
   "source": [
    "title = widgets.Text(value='                     Monte Carlo Method to Estimate Ratio Circle Incribed in a Square Demonstration, Michael Pyrcz, Professor, The University of Texas at Austin',layout=Layout(width='950px', height='30px'))\n",
    "\n",
    "l = widgets.FloatSlider(min=0, max = 5, step = 0.1, value = 0.3, description = '$log(l)$:',orientation='horizontal',layout=Layout(width='750px', height='50px'),continuous_update=False)\n",
    "l.style.handle_color = 'gray'\n",
    "\n",
    "ui = widgets.HBox([l],kwargs = {'justify_content':'center'})\n",
    "ui2 = widgets.VBox([title,ui],)\n",
    "\n",
    "def f_make2(l): \n",
    "    L = 100000; radius = 50; cx = 50; cy = 50; seed = 73071\n",
    "    \n",
    "    i = int(10**l)\n",
    "    np.random.seed(seed=seed)\n",
    "    pts = np.random.rand(L,2)*100\n",
    "    pts_l = pts[:i]\n",
    "    dist = (pts[:,0]-50)**2 + (pts[:,1]-50)**2\n",
    "    dist_l = (pts_l[:,0]-50)**2 + (pts_l[:,1]-50)**2\n",
    "    inside = dist < (radius * radius)\n",
    "    inside_l = dist_l < (radius * radius)\n",
    "    \n",
    "    counts = np.arange(1,len(inside)+1,1)\n",
    "    prop = np.cumsum(inside, axis=0, dtype=None, out=None)/np.arange(1,len(inside)+1,1)\n",
    "    truth = math.pi/4\n",
    "    \n",
    "    ax1 = plt.subplot(121)\n",
    "    \n",
    "    plt.scatter(pts_l[inside_l,0],pts_l[inside_l,1],color='red',edgecolor='black',zorder=10)\n",
    "    plt.scatter(pts_l[inside_l==False,0],pts_l[inside_l==False,1],color='gray',edgecolor='black',zorder=10)\n",
    "    plt.scatter(50,50,marker='x',c='black',s=80,zorder=1)\n",
    "    \n",
    "    circle1 = plt.Circle((50, 50),radius,fill=False,edgecolor='black',zorder=1)\n",
    "    plt.plot([52,50+radius-1],[50,50],c='black',lw=1)\n",
    "    plt.gca().add_patch(circle1)\n",
    "    \n",
    "    plt.gca().add_patch(plt.Rectangle((0, 0), 100, 100, fill=False,edgecolor='black',lw=2))\n",
    "    \n",
    "    head = plt.Polygon([[cx+radius-1,cy-1],[cx+radius-1,cy+1],[cx+radius,cy],[cx+radius-1,cy-1]], color='black',alpha = 1.0,zorder=1)\n",
    "    plt.gca().add_patch(head)\n",
    "    plt.xlim([-10,110]); plt.ylim([-10,110]); add_grid(ax1); plt.xlabel(\"X (m)\"); plt.ylabel(\"Y (m)\") \n",
    "    plt.title('Ratio of Circle Inscribed Within Square')\n",
    "    \n",
    "    ax2 = plt.subplot(122)\n",
    "    plt.plot(counts,prop,c='gray',zorder=1)\n",
    "    plt.plot([0,L],[truth,truth],c='red',zorder=3); plt.annotate('Exact Solution',[2,truth+0.01],c='red')\n",
    "    plt.scatter(counts[:i-1],prop[:i-1],c='gray',edgecolor='black',s=30,zorder=9);\n",
    "    plt.scatter(counts[i-1],prop[i-1],c='red',edgecolor='black',s=30,zorder=10); add_grid(ax2)\n",
    "    plt.ylim([0.0,1.3]); plt.xlim([1,100000]); plt.xscale(\"log\"); plt.xlabel(\"Number of Samples\"); plt.ylabel(\"Cumulative Proportion\"); plt.title('Monte Carlo Geometric Ratio')\n",
    "    \n",
    "    plt.subplots_adjust(left=0.0, bottom=0.0, right=2.0, top=1.3, wspace=0.3, hspace=0.2); plt.show()\n",
    "    \n",
    "interactive_plot2 = widgets.interactive_output(f_make2, {'l':l})\n",
    "interactive_plot2.clear_output(wait = True)                # reduce flickering by delaying plot updating      "
   ]
  },
  {
   "cell_type": "code",
   "execution_count": null,
   "metadata": {},
   "outputs": [],
   "source": [
    "display(ui2, interactive_plot2)                            # display the interactive plot"
   ]
  },
  {
   "cell_type": "markdown",
   "metadata": {},
   "source": [
    "#### Monte Carlo Method to Calculate Volume Integrated Variograms (Gamma Bar) Demonstration\n",
    "\n",
    "Now let's set up our third dashboard. This is an example of an expensive integration that we can approximate with a limited number of samples. \n",
    "\n",
    "\\begin{equation}\n",
    "\\overline{\\gamma}(v_1,v_2) = \\frac{1}{v_1 \\cdot v_2} \\int_{v_1} \\int_{v_2} \\gamma\\left( \\bf{u}_{v_1},\\bf{u}_{v_2} \\right) dv_1 dv_2\n",
    "\\end{equation}\n",
    "\n",
    "For a 2D problem this is a fourfold (quadruple) integral and for a 3D problem this is a sixfold (sextuple) integral, see below: \n",
    "\n",
    "In 2D:\n",
    "\\begin{equation}\n",
    "\\overline{\\gamma}(v_1,v_2) = \\frac{1}{v_1 \\cdot v_2} \\int_{{v_1}_X} \\int_{{v_1}_Y} \\int_{{v_2}_X} \\int_{{v_2}_Y} \\gamma\\left( \\bf{u}_{v_1},\\bf{u}_{v_2} \\right) dv_{1_X} dv_{1_Y} dv_{2_X} dv_{2_Y}\n",
    "\\end{equation}\n",
    "\n",
    "and in 3D:\n",
    "\n",
    "\\begin{equation}\n",
    "\\overline{\\gamma}(v_1,v_2) = \\frac{1}{v_1 \\cdot v_2} \\int_{{v_1}_X} \\int_{{v_1}_Y} \\int_{{v_1}_Z} \\int_{{v_2}_X} \\int_{{v_2}_Y} \\int_{{v_2}_Z} \\gamma\\left( \\bf{u}_{v_1},\\bf{u}_{v_2} \\right) dv_{1_X} dv_{1_Y} dv_{1_Z} dv_{2_X} dv_{2_Y} dv_{2_Z} \n",
    "\\end{equation}\n",
    "\n",
    "given the semivariogram calculation computational cost, combinatorial of variogram values to average to calculate 1 gamma bar value, and combined with the large number of gamm bar values often required in geostatistical spatial estimation and simulation, this is a too high computational complexity and we need a speed up!\n",
    "\n",
    "#### Monte Carlo Method to Calculate Gamma Bar Values\n",
    "\n",
    "1. randomly sample a lag vector between volumes $v_1$ and $v_2$\n",
    "    * uniform random value over x and y for each the lag vector tail (in $v_1$) and the lag vector head (in $v_2$).\n",
    "2. calculate the variogram value over the lag vector\n",
    "    * in this example, I assume a isotropic spherical variogram model\n",
    "3. calculate the average variogram over all random lag vectors\n",
    "4. go to 1., continue until enough samples for the required accuracy\n",
    "\n",
    "Note, the 'Exact Solution' for the gamma bar was calculated with 100k samples and hard coded in the dashbaord below."
   ]
  },
  {
   "cell_type": "code",
   "execution_count": null,
   "metadata": {},
   "outputs": [],
   "source": [
    "title = widgets.Text(value='                Monte Carlo Method to Estimate Volume Integrated Variograms, Gamma Bars, Demonstration, Michael Pyrcz, Professor, The University of Texas at Austin',layout=Layout(width='950px', height='30px'))\n",
    "\n",
    "L_dia = widgets.FloatSlider(min=0.25, max = 2.0, step = 0.25, value = 0.3, description = '$log(l)$:',orientation='horizontal',layout=Layout(width='750px', height='50px'),continuous_update=False)\n",
    "L_dia.style.handle_color = 'gray'\n",
    "\n",
    "ui = widgets.HBox([L_dia],kwargs = {'justify_content':'center'})\n",
    "ui3 = widgets.VBox([title,ui],)\n",
    "\n",
    "def f_make3(L_dia): \n",
    "    L = int(10**L_dia)\n",
    "    seed = 73073; r = 200.0; L_all = 100\n",
    "    \n",
    "    gamma_truth = 0.81038       # calculated with 100k samples\n",
    "    np.random.seed(seed=seed)\n",
    "    pts_v1_all = np.random.rand(L_all,2)\n",
    "    pts_v1_all[:,0] = pts_v1_all[:,0]*50.0+25.0; pts_v1_all[:,1] = pts_v1_all[:,1]*50.0+35.0; \n",
    "    pts_v2_all = np.random.rand(L_all,2);\n",
    "    pts_v2_all[:,0] = pts_v2_all[:,0]*100.0+125; pts_v2_all[:,1] = pts_v2_all[:,1]*100.0+10.0; \n",
    "    gamma_all = isotropic_spherical_variogram(pts_v1_all[:,0],pts_v1_all[:,1],pts_v2_all[:,0],pts_v2_all[:,1],r)\n",
    "    \n",
    "    pts_v1 = pts_v1_all[:L,:]; pts_v2 = pts_v2_all[:L,:]; gamma = gamma_all[:L]\n",
    "    \n",
    "    counts_all = np.arange(1,L_all+1,1)\n",
    "    prop_all = np.cumsum(gamma_all, axis=0, dtype=None, out=None)/np.arange(1,L_all+1,1)\n",
    "    \n",
    "    f, (ax1, ax2) = plt.subplots(1, 2, gridspec_kw={'width_ratios': [3, 1]})\n",
    "    \n",
    "    for l in range(0,L):\n",
    "        alpha = max(0.02,(11 - (L-l) )/10)        \n",
    "        if l == L-1:\n",
    "            rotate = rotation(pts_v2[l,1]-pts_v1[l,1],pts_v2[l,0]-pts_v1[l,0])\n",
    "            ax1.scatter(pts_v1[l,0],pts_v1[l,1],color='red',edgecolor='black',alpha = alpha,s=20,zorder=150)\n",
    "            ax1.scatter(pts_v2[l,0],pts_v2[l,1],color='red',edgecolor='black',alpha = alpha,s=20,zorder=150)\n",
    "            ax1.plot([pts_v1[l,0],pts_v2[l,0]],[pts_v1[l,1],pts_v2[l,1]],color='red',alpha = alpha,zorder=130)\n",
    "            ax1.annotate(r'$\\gamma(v_1^{\\ell},v_2^{\\ell})$ = ' + str(np.round(gamma[l],2)),\n",
    "                         [(pts_v1[l,0]+pts_v2[l,0])*0.5,(pts_v1[l,1]+pts_v2[l,1])*0.5+2],\n",
    "                         rotation = rotate,color='red',ha='center',zorder=100)\n",
    "            ax1.annotate(r'$\\overline{\\gamma}(v_1,v_2)$ = ' + str(np.round(prop_all[l],2)),\n",
    "                         [5,5],color='red',zorder=100)\n",
    "        else:\n",
    "            ax1.scatter(pts_v1[l,0],pts_v1[l,1],color='gray',edgecolor='black',alpha = alpha,s=20,zorder=50)\n",
    "            ax1.scatter(pts_v2[l,0],pts_v2[l,1],color='gray',edgecolor='black',alpha = alpha,s=20,zorder=50)\n",
    "            ax1.plot([pts_v1[l,0],pts_v2[l,0]],[pts_v1[l,1],pts_v2[l,1]],color='black',alpha = alpha,zorder=30)\n",
    "    \n",
    "    ax1.add_patch(plt.Rectangle((25,35), 50, 50, fill=False,edgecolor='black',lw=2))\n",
    "    ax1.annotate(r'$v_1$',[26,86])\n",
    "    ax1.add_patch(plt.Rectangle((125,10), 100, 100, fill=False,edgecolor='black',lw=2))\n",
    "    ax1.annotate(r'$v_2$',[126,111])\n",
    "    add_grid(ax1)\n",
    "    ax1.set_xlim([0,240]); ax1.set_ylim([0,120]); ax1.set_xlabel('X (m)'); ax1.set_ylabel('Y (m)'); ax1.set_title('Volume Integrated Variograms (Gammabar)')\n",
    "    \n",
    "    counts = np.arange(1,L+1,1)\n",
    "    prop = np.cumsum(gamma, axis=0, dtype=None, out=None)/np.arange(1,L+1,1)\n",
    "    \n",
    "    ax2.plot(prop_all,counts_all,color='gray',zorder=10); ax2.scatter(prop,counts,color='gray',edgecolor='black',s=20,zorder=100)\n",
    "    ax2.scatter(prop[l],counts[l],color='red',edgecolor='black',s=50,zorder=120)\n",
    "    ax2.plot([gamma_truth,gamma_truth],[1,L_all],color='red',zorder=20); \n",
    "    plt.annotate('Exact Solution',[gamma_truth,3],c='red',rotation=270)\n",
    "    ax2.set_xlim([0.5,1.0]); ax2.set_ylim([1,L_all]); ax2.set_xlabel(r'$\\overline{\\gamma}(v_1,v_2)$'); ax2.set_ylabel('Number of Samples'); ax2.set_title('Monte Carlo Gammabar')\n",
    "    add_grid(ax2); ax2.set_yscale('log')\n",
    "    \n",
    "    plt.subplots_adjust(left=0.0, bottom=0.0, right=2.0, top=1.2, wspace=0.3, hspace=0.2); plt.show() \n",
    "    \n",
    "interactive_plot3 = widgets.interactive_output(f_make3, {'L_dia':L_dia})\n",
    "interactive_plot3.clear_output(wait = True)                # reduce flickering by delaying plot updating      "
   ]
  },
  {
   "cell_type": "code",
   "execution_count": null,
   "metadata": {
    "scrolled": false
   },
   "outputs": [],
   "source": [
    "display(ui3, interactive_plot3)                            # display the interactive plot"
   ]
  },
  {
   "cell_type": "markdown",
   "metadata": {},
   "source": [
    "#### Comments\n",
    "\n",
    "This was an interactive demonstration of Monte Carlo methods to solve statistical and mathematical problems. I have other lectures and inteactive dashboards on Monte Carlo Simulation and I wanted to expand our coverage with general Monte Carlo methods here. I also have lectures on Markov chain Monte Carlo (McMC) methods!\n",
    "  \n",
    "I hope this was helpful,\n",
    "\n",
    "*Michael*\n",
    "\n",
    "#### The Author:\n",
    "\n",
    "### Michael Pyrcz, Professor, The University of Texas at Austin \n",
    "*Novel Data Analytics, Geostatistics and Machine Learning Subsurface Solutions*\n",
    "\n",
    "With over 17 years of experience in subsurface consulting, research and development, Michael has returned to academia driven by his passion for teaching and enthusiasm for enhancing engineers' and geoscientists' impact in subsurface resource development. \n",
    "\n",
    "For more about Michael check out these links:\n",
    "\n",
    "#### [Twitter](https://twitter.com/geostatsguy) | [GitHub](https://github.com/GeostatsGuy) | [Website](http://michaelpyrcz.com) | [GoogleScholar](https://scholar.google.com/citations?user=QVZ20eQAAAAJ&hl=en&oi=ao) | [Book](https://www.amazon.com/Geostatistical-Reservoir-Modeling-Michael-Pyrcz/dp/0199731446) | [YouTube](https://www.youtube.com/channel/UCLqEr-xV-ceHdXXXrTId5ig)  | [LinkedIn](https://www.linkedin.com/in/michael-pyrcz-61a648a1)\n",
    "\n",
    "#### Want to Work Together?\n",
    "\n",
    "I hope this content is helpful to those that want to learn more about subsurface modeling, data analytics and machine learning. Students and working professionals are welcome to participate.\n",
    "\n",
    "* Want to invite me to visit your company for training, mentoring, project review, workflow design and / or consulting? I'd be happy to drop by and work with you! \n",
    "\n",
    "* Interested in partnering, supporting my graduate student research or my Subsurface Data Analytics and Machine Learning consortium (co-PIs including Profs. Foster, Torres-Verdin and van Oort)? My research combines data analytics, stochastic modeling and machine learning theory with practice to develop novel methods and workflows to add value. We are solving challenging subsurface problems!\n",
    "\n",
    "* I can be reached at mpyrcz@austin.utexas.edu.\n",
    "\n",
    "I'm always happy to discuss,\n",
    "\n",
    "*Michael*\n",
    "\n",
    "Michael Pyrcz, Ph.D., P.Eng. Professor, Cockrell School of Engineering and The Jackson School of Geosciences, The University of Texas at Austin\n",
    "\n",
    "#### More Resources Available at: [Twitter](https://twitter.com/geostatsguy) | [GitHub](https://github.com/GeostatsGuy) | [Website](http://michaelpyrcz.com) | [GoogleScholar](https://scholar.google.com/citations?user=QVZ20eQAAAAJ&hl=en&oi=ao) | [Book](https://www.amazon.com/Geostatistical-Reservoir-Modeling-Michael-Pyrcz/dp/0199731446) | [YouTube](https://www.youtube.com/channel/UCLqEr-xV-ceHdXXXrTId5ig)  | [LinkedIn](https://www.linkedin.com/in/michael-pyrcz-61a648a1)"
   ]
  },
  {
   "cell_type": "code",
   "execution_count": null,
   "metadata": {},
   "outputs": [],
   "source": []
  }
 ],
 "metadata": {
  "kernelspec": {
   "display_name": "Python 3 (ipykernel)",
   "language": "python",
   "name": "python3"
  },
  "language_info": {
   "codemirror_mode": {
    "name": "ipython",
    "version": 3
   },
   "file_extension": ".py",
   "mimetype": "text/x-python",
   "name": "python",
   "nbconvert_exporter": "python",
   "pygments_lexer": "ipython3",
   "version": "3.11.4"
  }
 },
 "nbformat": 4,
 "nbformat_minor": 2
}
